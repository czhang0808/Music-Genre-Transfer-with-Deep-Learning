{
 "cells": [
  {
   "cell_type": "code",
   "execution_count": 1,
   "metadata": {},
   "outputs": [],
   "source": [
    "import numpy as np\n",
    "import glob\n",
    "import datetime\n",
    "import math\n",
    "import random\n",
    "import os\n",
    "import shutil\n",
    "import matplotlib.pyplot as plt\n",
    "import matplotlib2tikz\n",
    "import pretty_midi\n",
    "from pypianoroll import Multitrack, Track\n",
    "import librosa.display\n",
    "from utils import *\n",
    "import write_midi\n",
    "\n",
    "midi_type = \"temp\"\n",
    "ROOT_PATH = 'D:/Anaconda/Jupyter Notebook/pretty_midi/dataset/MIDI'\n",
    "test_ratio = 0.1\n",
    "LAST_BAR_MODE = 'remove'"
   ]
  },
  {
   "cell_type": "code",
   "execution_count": 4,
   "metadata": {},
   "outputs": [],
   "source": [
    "def get_bar_piano_roll(piano_roll):\n",
    "    if int(piano_roll.shape[0] % 64) is not 0:\n",
    "        if LAST_BAR_MODE == 'fill':\n",
    "            piano_roll = np.concatenate((piano_roll, np.zeros((64 - piano_roll.shape[0] % 64, 128))), axis=0)\n",
    "        elif LAST_BAR_MODE == 'remove':\n",
    "            piano_roll = np.delete(piano_roll,  np.s_[-int(piano_roll.shape[0] % 64):], axis=0)\n",
    "    piano_roll = piano_roll.reshape(-1, 64, 128)\n",
    "    return piano_roll"
   ]
  },
  {
   "cell_type": "code",
   "execution_count": 3,
   "metadata": {},
   "outputs": [
    {
     "name": "stdout",
     "output_type": "stream",
     "text": [
      "ABBA >>>>>>>>>>>>>>>>>>>>>>>>>>>>>>>>>>>>>>>>>>>>>>>>\n",
      "(1405, 128)\n",
      "(21, 64, 128)\n",
      "(21, 64, 84)\n",
      "(21, 64, 84, 1)\n",
      "ABBA >>>>>>>>>>>>>>>>>>>>>>>>>>>>>>>>>>>>>>>>>>>>>>>>\n",
      "(1405, 128)\n",
      "(21, 64, 128)\n",
      "(21, 64, 84)\n",
      "(21, 64, 84, 1)\n",
      "ABBA >>>>>>>>>>>>>>>>>>>>>>>>>>>>>>>>>>>>>>>>>>>>>>>>\n",
      "(1405, 128)\n",
      "(21, 64, 128)\n",
      "(21, 64, 84)\n",
      "(21, 64, 84, 1)\n",
      "ABBA >>>>>>>>>>>>>>>>>>>>>>>>>>>>>>>>>>>>>>>>>>>>>>>>\n",
      "(1405, 128)\n",
      "(21, 64, 128)\n",
      "(21, 64, 84)\n",
      "(21, 64, 84, 1)\n",
      "ABBA >>>>>>>>>>>>>>>>>>>>>>>>>>>>>>>>>>>>>>>>>>>>>>>>\n",
      "(1405, 128)\n",
      "(21, 64, 128)\n",
      "(21, 64, 84)\n",
      "(21, 64, 84, 1)\n",
      "0\n"
     ]
    }
   ],
   "source": [
    "\"\"\"4. merge and crop\"\"\"\n",
    "\"\"\"merge different tracks and crop the data to (#, 64, 84, 1)\"\"\"\n",
    "# train_test = 'origin_ABBA_full_pop2classic'\n",
    "# song_list = ['ABBA', 'Billie_Jean', 'ClaireDeLune', 'Flirtation', 'Gladiators', 'Grande_Walz', 'Just_Dance', 'Perfect_new']\n",
    "song_list = ['ABBA']\n",
    "for song in song_list:\n",
    "#     song='ClaireDeLune'\n",
    "    if not os.path.exists(os.path.join(ROOT_PATH, '{}/{}_data'.format(midi_type, song))):\n",
    "        os.makedirs(os.path.join(ROOT_PATH, '{}/{}_data'.format(midi_type, song)))\n",
    "\n",
    "    l = [f for f in os.listdir(os.path.join(ROOT_PATH, '{}/{}'.format(midi_type, song)))]\n",
    "    # print(l)\n",
    "    count = 0\n",
    "    for i in range(len(l)):\n",
    "        try:\n",
    "            multitrack = Multitrack(beat_resolution=4, name=os.path.splitext(l[i])[0])\n",
    "            x = pretty_midi.PrettyMIDI(os.path.join(ROOT_PATH, '{}/{}'.format(midi_type, song), l[i]))\n",
    "            multitrack.parse_pretty_midi(x)\n",
    "\n",
    "            category_list = {'Piano': [], 'Drums': []}\n",
    "            program_dict = {'Piano': 0, 'Drums': 0}\n",
    "\n",
    "            for idx, track in enumerate(multitrack.tracks):\n",
    "                if track.is_drum:\n",
    "                    category_list['Drums'].append(idx)\n",
    "                else:\n",
    "                    category_list['Piano'].append(idx)\n",
    "            tracks = []\n",
    "            merged = multitrack[category_list['Piano']].get_merged_pianoroll()\n",
    "    #         merged = multitrack[category_list['Piano']].get_merged_pianoroll(mode='max')\n",
    "            if song == 'ABBA':\n",
    "                print(song, \">>>>>>>>>>>>>>>>>>>>>>>>>>>>>>>>>>>>>>>>>>>>>>>>\")\n",
    "                merged = np.delete(merged, range(131), axis=0)\n",
    "            print(merged.shape)\n",
    "\n",
    "            pr = get_bar_piano_roll(merged)\n",
    "            print(pr.shape)\n",
    "            pr_clip = pr[:, :, 24:108]\n",
    "            print(pr_clip.shape)\n",
    "            \n",
    "    #         if int(pr_clip.shape[0] % 4) != 0:\n",
    "    #             pr_clip = np.delete(pr_clip, np.s_[-int(pr_clip.shape[0] % 4):], axis=0)\n",
    "            if song == 'Just_Dance':\n",
    "                print(song, \">>>>>>>>>>>>>>>>>>>>>>>>>>>>>>>>>>>>>>>>>>>>>>>>\")\n",
    "                pr_clip = np.delete(pr_clip, [0, 1], axis=0)\n",
    "            elif song == 'Billie_Jean':\n",
    "                print(song, \">>>>>>>>>>>>>>>>>>>>>>>>>>>>>>>>>>>>>>>>>>>>>>>>\")\n",
    "                pr_clip = np.delete(pr_clip, [0, 1, 2], axis=0)\n",
    "            pr_re = pr_clip.reshape(-1, 64, 84, 1)\n",
    "            print(pr_re.shape)\n",
    "    #         if pr_re.shape[0] == 0:\n",
    "    #             continue\n",
    "    #         save_midis(pr_re, os.path.join(ROOT_PATH, 'MIDI/pop/pop_test/cleaner_midi_gen', os.path.splitext(l[i])[0] +\n",
    "    #                                        '.mid'))\n",
    "    #         np.save(os.path.join(ROOT_PATH, '{}/{}'.format(midi_type, train_test), os.path.splitext(l[i])[0] + '.npy'), pr_re>0)\n",
    "    #         np.save(os.path.join(ROOT_PATH, '{}/{}_data/{}.npy'.format(midi_type, song, l[i])), pr_re>0)\n",
    "            np.save(os.path.join(ROOT_PATH, '{}/{}_data'.format(midi_type, song), os.path.splitext(l[i])[0] + '.npy'), pr_re>0)\n",
    "        except:\n",
    "            count += 1\n",
    "            print('Wrong', l[i])\n",
    "            continue\n",
    "    print(count)"
   ]
  },
  {
   "cell_type": "code",
   "execution_count": 4,
   "metadata": {},
   "outputs": [
    {
     "name": "stdout",
     "output_type": "stream",
     "text": [
      "ABBA\n",
      "(21, 64, 84, 1)\n",
      "(64, 84, 1) 332 True\n",
      "(64, 84, 1)\n",
      "(64, 84, 1) 380 True\n",
      "(64, 84, 1)\n",
      "(64, 84, 1) 354 True\n",
      "(64, 84, 1)\n",
      "(64, 84, 1) 212 True\n",
      "(64, 84, 1)\n",
      "4\n",
      "attention_ABBA_full_pop2classic\n",
      "(21, 64, 84, 1)\n",
      "(64, 84, 1) 211 True\n",
      "(64, 84, 1)\n",
      "(64, 84, 1) 281 True\n",
      "(64, 84, 1)\n",
      "(64, 84, 1) 260 True\n",
      "(64, 84, 1)\n",
      "(64, 84, 1) 217 True\n",
      "(64, 84, 1)\n",
      "4\n",
      "both_ABBA_full_pop2classic\n",
      "(21, 64, 84, 1)\n",
      "(64, 84, 1) 165 True\n",
      "(64, 84, 1)\n",
      "(64, 84, 1) 191 True\n",
      "(64, 84, 1)\n",
      "(64, 84, 1) 223 True\n",
      "(64, 84, 1)\n",
      "(64, 84, 1) 134 True\n",
      "(64, 84, 1)\n",
      "4\n",
      "origin_ABBA_full_pop2classic\n",
      "(21, 64, 84, 1)\n",
      "(64, 84, 1) 226 True\n",
      "(64, 84, 1)\n",
      "(64, 84, 1) 291 True\n",
      "(64, 84, 1)\n",
      "(64, 84, 1) 270 True\n",
      "(64, 84, 1)\n",
      "(64, 84, 1) 145 True\n",
      "(64, 84, 1)\n",
      "4\n",
      "sn_ABBA_full_pop2classic\n",
      "(21, 64, 84, 1)\n",
      "(64, 84, 1) 226 True\n",
      "(64, 84, 1)\n",
      "(64, 84, 1) 297 True\n",
      "(64, 84, 1)\n",
      "(64, 84, 1) 306 True\n",
      "(64, 84, 1)\n",
      "(64, 84, 1) 152 True\n",
      "(64, 84, 1)\n",
      "4\n"
     ]
    }
   ],
   "source": [
    "\"\"\"6. separate numpy array file into single phrases\"\"\"\n",
    "# train_test = 'train'\n",
    "# song='Perfect_new'\n",
    "# song_list = ['ABBA', 'Billie_Jean', 'ClaireDeLune', 'Flirtation', 'Gladiators', 'Grande_Walz', 'Just_Dance', 'Perfect_new']\n",
    "song_list = ['ABBA']\n",
    "for song in song_list:\n",
    "    l = [f for f in os.listdir(os.path.join(ROOT_PATH, '{}/{}_data'.format(midi_type, song)))]\n",
    "    for j in range(len(l)):\n",
    "        directory = os.path.splitext(l[j])[0]\n",
    "        print(directory)\n",
    "        if not os.path.exists(os.path.join(ROOT_PATH, '{}/{}_data/{}'.format(midi_type, song, directory))):\n",
    "            os.makedirs(os.path.join(ROOT_PATH, '{}/{}_data/{}'.format(midi_type, song, directory)))\n",
    "        x = np.load(os.path.join(ROOT_PATH, '{}/{}_data'.format(midi_type, song), l[j]))\n",
    "        print(x.shape)\n",
    "        count = 0\n",
    "        for i in range(4):\n",
    "            # filter too sparse files\n",
    "            if x[i].nonzero()[0].shape[0] > 1:\n",
    "                print(x[i].shape, x[i].nonzero()[0].shape[0], np.max(x[i]))\n",
    "                count += 1\n",
    "                data = x[i].reshape(64, 84, 1)\n",
    "                print(data.shape)\n",
    "                np.save(os.path.join(ROOT_PATH, '{}/{}_data/{}/{}_{}.npy'.format(midi_type, song, directory, directory, count)), data)\n",
    "    #         print(x[i].shape)\n",
    "       # if count == 11216:\n",
    "       #     break\n",
    "        print(count)"
   ]
  },
  {
   "cell_type": "code",
   "execution_count": 50,
   "metadata": {},
   "outputs": [
    {
     "name": "stdout",
     "output_type": "stream",
     "text": [
      "both_Grande_Waltz_full_classic2pop : mean of content retention maxtrix: (added, removed, total) = [[2.0454412 0.6669865 2.7124276]]\n",
      "both_Grande_Waltz_full_classic2pop : variance of content retention maxtrix: (added, removed, total) = [[2.9687033  0.03249271 2.4131136 ]]\n",
      "[2, 4, 4, 2]\n"
     ]
    }
   ],
   "source": [
    "models=['origin', 'sn', 'attention', 'both']\n",
    "# directions=['classic2jazz', 'classic2pop', 'pop2classic', 'jazz2classic']\n",
    "# song_list = ['ABBA', 'billiejean', 'ClaireDeLune', 'Flirtation', 'Gladiators', 'Grande_Waltz', 'justdance', 'perfect_new']\n",
    "directions=['classic2pop', 'pop2classic']\n",
    "song_list = ['ABBA', 'billiejean', 'Flirtation', 'Gladiators', 'Grande_Waltz', 'justdance', 'perfect_new']\n",
    "model = models[3]\n",
    "song = song_list[4]\n",
    "direction = directions[0]\n",
    "name_transfer = '{}_{}_full_{}'.format(model, song, direction)\n",
    "name_origin = '{}'.format(song)\n",
    "content_retention = []\n",
    "idx_list = []\n",
    "for i in range(4):\n",
    "    path_transfer = os.path.join(ROOT_PATH, '{}/{}_data/{}/{}_{}.npy'.format(midi_type, song, name_transfer, name_transfer, i+1))\n",
    "    path_origin = os.path.join(ROOT_PATH, '{}/{}_data/{}/{}_{}.npy'.format(midi_type, song, name_origin, name_origin, i+1))\n",
    "#     print(path_transfer)\n",
    "#     print(path_origin)\n",
    "    origin_npy = np.load(path_origin) * 1.\n",
    "    transfer_npy = np.load(path_transfer) * 1.\n",
    "   \n",
    "    source_matrix = np.squeeze(origin_npy*1.0)\n",
    "    transfer_origin = np.squeeze(transfer_npy*1.0)\n",
    "    \n",
    "    idx = 0\n",
    "    retention_min = np.array([[100, 100, 100]])\n",
    "    \n",
    "    \n",
    "    for j in range(84):\n",
    "    # calculate content retention\n",
    "        transfer_matrix = np.roll(transfer_origin, j, axis=1)\n",
    "        temp_matrix = transfer_matrix - source_matrix\n",
    "        added_matrix = np.where(temp_matrix > 0)[0].shape[0]\n",
    "        removed_matrix = np.where(temp_matrix < 0)[0].shape[0]\n",
    "        notes = np.nonzero(source_matrix)[0].shape[0]\n",
    "\n",
    "        retention_temp = np.zeros((1,3))\n",
    "        retention_temp[0, 0] = added_matrix / notes\n",
    "        retention_temp[0, 1] = removed_matrix / notes\n",
    "        retention_temp[0, 2] = retention_temp[0, 0] + retention_temp[0, 1]\n",
    "#         print(retention_temp[0, 2], retention_min[0, 2])\n",
    "        if retention_temp[0, 2] < retention_min[0, 2]:\n",
    "            retention_min = retention_temp.copy()\n",
    "            idx = j\n",
    "    \n",
    "#     retention = np.zeros((1,3))\n",
    "#     retention[0, 0] = added_matrix / notes\n",
    "#     retention[0, 1] = removed_matrix / notes\n",
    "#     retention[0, 2] = retention[0, 0] + retention[0, 1]\n",
    "#     print(idx)\n",
    "    content_retention.append(retention_min.copy())\n",
    "    idx_list.append(idx)\n",
    "\n",
    "# print(content_retention)    \n",
    "content_retention = np.array(content_retention).astype(np.float32)\n",
    "retention_mean = np.mean(content_retention, axis = 0)\n",
    "retention_variance = np.var(content_retention, axis = 0)\n",
    "print(name_transfer, \": mean of content retention maxtrix: (added, removed, total) =\", retention_mean)\n",
    "print(name_transfer, \": variance of content retention maxtrix: (added, removed, total) =\", retention_variance)\n",
    "print(idx_list)"
   ]
  },
  {
   "cell_type": "code",
   "execution_count": 7,
   "metadata": {},
   "outputs": [
    {
     "data": {
      "text/plain": [
       "<function matplotlib.pyplot.show(*args, **kw)>"
      ]
     },
     "execution_count": 7,
     "metadata": {},
     "output_type": "execute_result"
    },
    {
     "data": {
      "image/png": "[encoded data removed]",
      "text/plain": [
       "<Figure size 576x576 with 1 Axes>"
      ]
     },
     "metadata": {
      "needs_background": "light"
     },
     "output_type": "display_data"
    }
   ],
   "source": [
    "fig = plt.figure(figsize=(8,8))\n",
    "ax = fig.add_subplot(111, aspect='auto')\n",
    "\n",
    "\n",
    "x1 = np.array([0.805555556, 0.527777778, 0.75, 0.722222222, 0.722222222, 0.722222222, 0.805555556, 0.555555556])\n",
    "x2 = np.array([0.333333333, 0.222222222, 0.166666667, 0.25, 0.305555556, 0.027777778, 0.138888889, 0.25])\n",
    "x3 = np.array([0.777777778, 0.972222222, 0.666666667, 0.861111111, 0.944444444, 0.888888889, 0.861111111, 0.944444444])\n",
    "x4 = np.array([0.083333333, 0.277777778, 0.416666667, 0.166666667, 0.027777778, 0.361111111, 0.194444444, 0.25])\n",
    "\n",
    "\n",
    "y1 = np.array([0.3465, 1.6936, 1.3685, 1.6475, 2.0778, 0.7782, 1.3603, 1.3442])\n",
    "y2 = np.array([2.3108, 3.2787, 4.5677, 3.2823, 2.3047, 1.4544, 2.8492, 2.1698])\n",
    "y3 = np.array([1.8226, 0.5232, 1.0730, 1.1940, 0.4162, 0.4543, 0.4923, 0.4973])\n",
    "y4 = np.array([2.1311, 2.8063, 3.2087, 3.1738, 3.4189, 1.7485, 3.6216, 2.3586])\n",
    "\n",
    "\n",
    "\n",
    "plt.scatter(x1, y1, label='Vanilla')\n",
    "plt.scatter(x3, y3, label='SN')\n",
    "plt.scatter(x4, y4, label='SA')\n",
    "plt.scatter(x2, y2, label='SN+SA')\n",
    "plt.grid(True)\n",
    "plt.xlabel('results of user study')\n",
    "plt.ylabel('content retention mertic')\n",
    "plt.title('conten retention', fontsize=15)\n",
    "plt.legend(loc=\"upper right\")\n",
    "matplotlib2tikz.save(\"content_retention.tex\")\n",
    "# plt.savefig('content_retention.jpg')\n",
    "plt.show"
   ]
  },
  {
   "cell_type": "code",
   "execution_count": 4,
   "metadata": {},
   "outputs": [
    {
     "name": "stdout",
     "output_type": "stream",
     "text": [
      "[[ 1.         -0.80541761]\n",
      " [-0.80541761  1.        ]]\n"
     ]
    }
   ],
   "source": [
    "x = np.array([[0.805555556, 0.527777778, 0.75, 0.722222222, 0.722222222, 0.722222222, 0.805555556, 0.555555556,\n",
    "              0.333333333, 0.222222222, 0.166666667, 0.25, 0.305555556, 0.027777778, 0.138888889, 0.25,\n",
    "              0.777777778, 0.972222222, 0.666666667, 0.861111111, 0.944444444, 0.888888889, 0.861111111, 0.944444444,              \n",
    "              0.083333333, 0.277777778, 0.416666667, 0.166666667, 0.027777778, 0.361111111, 0.194444444, 0.25],\n",
    "             [0.3465, 1.6936, 1.3685, 1.6475, 2.0778, 0.7782, 1.3603, 1.3442,\n",
    "              2.3108, 3.2787, 4.5677, 3.2823, 2.3047, 1.4544, 2.8492, 2.1698,\n",
    "              1.8226, 0.5232, 1.0730, 1.1940, 0.4162, 0.4543, 0.4923, 0.4973,             \n",
    "              2.1311, 2.8063, 3.2087, 3.1738, 3.4189, 1.7485, 3.6216, 2.3586]])\n",
    "\n",
    "\n",
    "print(np.corrcoef(x))"
   ]
  },
  {
   "cell_type": "code",
   "execution_count": 2,
   "metadata": {},
   "outputs": [
    {
     "data": {
      "text/plain": [
       "<function matplotlib.pyplot.show(*args, **kw)>"
      ]
     },
     "execution_count": 2,
     "metadata": {},
     "output_type": "execute_result"
    },
    {
     "data": {
      "image/png": "[encoded data removed]",
      "text/plain": [
       "<Figure size 576x576 with 1 Axes>"
      ]
     },
     "metadata": {
      "needs_background": "light"
     },
     "output_type": "display_data"
    }
   ],
   "source": [
    "fig = plt.figure(figsize=(8,8))\n",
    "ax = fig.add_subplot(111, aspect='auto')\n",
    "\n",
    "x1 = np.array([0.611111111, 0.055555556, 1, 0.333333333,\n",
    "              0.833333333, 0.111111111, 0.722222222, 0.333333333,\n",
    "              0.777777778, 0.277777778, 0.888888889, 0.055555556])\n",
    "y1 = np.array([1.6936, 2.6579, 0.5232, 1.3795,\n",
    "              1.3685, 3.2053, 1.0730, 0.0980,\n",
    "              1.6475, 2.7124, 1.1940, 1.3250])\n",
    "x2 = np.array([0.722222222, 0.277777778, 0.944444444, 0.055555556,\n",
    "              0.722222222, 0.055555556, 0.944444444, 0.277777778,\n",
    "              0.833333333, 0.111111111, 0.833333333, 0.222222222,\n",
    "              0.611111111, 0.055555556, 1, 0.333333333])\n",
    "y2 = np.array([2.0636, 1.4926, 0.4162, 2.5896,\n",
    "              0.7782, 0.9639, 0.4543, 0.6139,\n",
    "              1.3603, 2.0747, 0.4923, 2.6797,\n",
    "              1.3442, 1.4391, 0.4973, 1.4229])\n",
    "\n",
    "\n",
    "\n",
    "plt.scatter(x1, y1, label='classic -> pop')\n",
    "plt.scatter(x2, y2, label='pop -> classic')\n",
    "plt.grid(True)\n",
    "plt.xlabel('results of user study')\n",
    "plt.ylabel('content retention mertic')\n",
    "plt.title('conten retention', fontsize=15)\n",
    "plt.legend(loc=\"upper right\")\n",
    "matplotlib2tikz.save(\"content_retention_new.tex\")\n",
    "# plt.savefig('content_retention_new.jpg')\n",
    "plt.show"
   ]
  },
  {
   "cell_type": "code",
   "execution_count": 54,
   "metadata": {},
   "outputs": [
    {
     "name": "stdout",
     "output_type": "stream",
     "text": [
      "[[ 1.         -0.55651739]\n",
      " [-0.55651739  1.        ]]\n"
     ]
    }
   ],
   "source": [
    "x = np.array([[0.611111111, 0.055555556, 1, 0.333333333,\n",
    "              0.833333333, 0.111111111, 0.722222222, 0.333333333,\n",
    "              0.777777778, 0.277777778, 0.888888889, 0.055555556,              \n",
    "              0.722222222, 0.277777778, 0.944444444, 0.055555556,\n",
    "              0.722222222, 0.055555556, 0.944444444, 0.277777778,\n",
    "              0.833333333, 0.111111111, 0.833333333, 0.222222222,\n",
    "              0.611111111, 0.055555556, 1, 0.333333333],\n",
    "             [1.6936, 2.6579, 0.5232, 1.3795,\n",
    "              1.3685, 3.2053, 1.0730, 0.0980,\n",
    "              1.6475, 2.7124, 1.1940, 1.3250,             \n",
    "              2.0636, 1.4926, 0.4162, 2.5896,\n",
    "              0.7782, 0.9639, 0.4543, 0.6139,\n",
    "              1.3603, 2.0747, 0.4923, 2.6797,\n",
    "              1.3442, 1.4391, 0.4973, 1.4229]])\n",
    "print(np.corrcoef(x))"
   ]
  },
  {
   "cell_type": "code",
   "execution_count": null,
   "metadata": {},
   "outputs": [],
   "source": []
  }
 ],
 "metadata": {
  "kernelspec": {
   "display_name": "Python [conda env:cyclegan]",
   "language": "python",
   "name": "conda-env-cyclegan-py"
  },
  "language_info": {
   "codemirror_mode": {
    "name": "ipython",
    "version": 3
   },
   "file_extension": ".py",
   "mimetype": "text/x-python",
   "name": "python",
   "nbconvert_exporter": "python",
   "pygments_lexer": "ipython3",
   "version": "3.6.8"
  }
 },
 "nbformat": 4,
 "nbformat_minor": 2
}
