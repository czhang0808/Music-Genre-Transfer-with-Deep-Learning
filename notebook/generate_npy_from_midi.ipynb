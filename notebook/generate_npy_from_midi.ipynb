{
 "cells": [
  {
   "cell_type": "code",
   "execution_count": 1,
   "metadata": {},
   "outputs": [],
   "source": [
    "import numpy as np\n",
    "import glob\n",
    "import datetime\n",
    "import math\n",
    "import random\n",
    "import os\n",
    "import shutil\n",
    "import matplotlib.pyplot as plt\n",
    "import pretty_midi\n",
    "from pypianoroll import Multitrack, Track\n",
    "import librosa.display\n",
    "from utils import *\n",
    "import write_midi\n",
    "\n",
    "midi_type = \"jazz\"\n",
    "ROOT_PATH = 'D:\\Anaconda\\Jupyter Notebook\\pretty_midi\\dataset\\MIDI'\n",
    "test_ratio = 0.1\n",
    "LAST_BAR_MODE = 'remove'"
   ]
  },
  {
   "cell_type": "code",
   "execution_count": 2,
   "metadata": {},
   "outputs": [],
   "source": [
    "def get_bar_piano_roll(piano_roll):\n",
    "    if int(piano_roll.shape[0] % 64) is not 0:\n",
    "        if LAST_BAR_MODE == 'fill':\n",
    "            piano_roll = np.concatenate((piano_roll, np.zeros((64 - piano_roll.shape[0] % 64, 128))), axis=0)\n",
    "        elif LAST_BAR_MODE == 'remove':\n",
    "            piano_roll = np.delete(piano_roll,  np.s_[-int(piano_roll.shape[0] % 64):], axis=0)\n",
    "    piano_roll = piano_roll.reshape(-1, 64, 128)\n",
    "    return piano_roll"
   ]
  },
  {
   "cell_type": "code",
   "execution_count": 4,
   "metadata": {},
   "outputs": [
    {
     "data": {
      "text/plain": [
       "'1. convert_clean.py'"
      ]
     },
     "execution_count": 4,
     "metadata": {},
     "output_type": "execute_result"
    }
   ],
   "source": [
    "\"\"\"1. convert_clean.py\"\"\""
   ]
  },
  {
   "cell_type": "code",
   "execution_count": 43,
   "metadata": {},
   "outputs": [
    {
     "name": "stdout",
     "output_type": "stream",
     "text": [
      "874\n"
     ]
    }
   ],
   "source": [
    "\"\"\"2. choose the clean midi from original sets\"\"\"\n",
    "if not os.path.exists(os.path.join(ROOT_PATH, '{}/cleaner_midi'.format(midi_type))):\n",
    "    os.makedirs(os.path.join(ROOT_PATH, '{}/cleaner_midi'.format(midi_type)))\n",
    "\n",
    "l = [f for f in os.listdir(os.path.join(ROOT_PATH, '{}/cleaner'.format(midi_type)))]\n",
    "print(len(l))\n",
    "for i in l:\n",
    "#     print(os.path.join(ROOT_PATH, '{}/{}'.format(midi_type, midi_type), os.path.splitext(i)[0] + '.mid'))\n",
    "    shutil.copy(os.path.join(ROOT_PATH, '{}/{}'.format(midi_type, midi_type), os.path.splitext(i)[0] + '.mid'),\n",
    "                os.path.join(ROOT_PATH, '{}/cleaner_midi'.format(midi_type), os.path.splitext(i)[0] + '.mid'))"
   ]
  },
  {
   "cell_type": "code",
   "execution_count": 44,
   "metadata": {},
   "outputs": [
    {
     "name": "stdout",
     "output_type": "stream",
     "text": [
      "874\n",
      "87\n"
     ]
    }
   ],
   "source": [
    "\"\"\"3. divide the original set into train and test sets\"\"\"\n",
    "if not os.path.exists(os.path.join(ROOT_PATH, '{}/midi_test'.format(midi_type))):\n",
    "    os.makedirs(os.path.join(ROOT_PATH, '{}/midi_test'.format(midi_type)))\n",
    "if not os.path.exists(os.path.join(ROOT_PATH, '{}/midi_train'.format(midi_type))):\n",
    "    os.makedirs(os.path.join(ROOT_PATH, '{}/midi_train'.format(midi_type)))\n",
    "\n",
    "l = [f for f in os.listdir(os.path.join(ROOT_PATH, '{}/cleaner_midi'.format(midi_type)))]\n",
    "print(len(l))\n",
    "idx_test = np.random.choice(len(l), int(test_ratio * len(l)), replace=False)\n",
    "print(len(idx_test))\n",
    "for i in range(len(l)):\n",
    "    if i in idx_test:\n",
    "        shutil.move(os.path.join(ROOT_PATH, '{}/cleaner_midi'.format(midi_type), l[i]),\n",
    "                    os.path.join(ROOT_PATH, '{}/midi_test'.format(midi_type), l[i]))\n",
    "    else:\n",
    "        shutil.move(os.path.join(ROOT_PATH, '{}/cleaner_midi'.format(midi_type), l[i]),\n",
    "                    os.path.join(ROOT_PATH, '{}/midi_train'.format(midi_type), l[i]))"
   ]
  },
  {
   "cell_type": "code",
   "execution_count": 1,
   "metadata": {
    "scrolled": true
   },
   "outputs": [
    {
     "ename": "NameError",
     "evalue": "name 'os' is not defined",
     "output_type": "error",
     "traceback": [
      "\u001b[1;31m---------------------------------------------------------------------------\u001b[0m",
      "\u001b[1;31mNameError\u001b[0m                                 Traceback (most recent call last)",
      "\u001b[1;32m<ipython-input-1-902bd574866d>\u001b[0m in \u001b[0;36m<module>\u001b[1;34m\u001b[0m\n\u001b[0;32m      2\u001b[0m \u001b[1;34m\"\"\"merge different tracks and crop the data to (#, 64, 84, 1)\"\"\"\u001b[0m\u001b[1;33m\u001b[0m\u001b[1;33m\u001b[0m\u001b[0m\n\u001b[0;32m      3\u001b[0m \u001b[0mtrain_test\u001b[0m \u001b[1;33m=\u001b[0m \u001b[1;34m'train'\u001b[0m\u001b[1;33m\u001b[0m\u001b[1;33m\u001b[0m\u001b[0m\n\u001b[1;32m----> 4\u001b[1;33m \u001b[1;32mif\u001b[0m \u001b[1;32mnot\u001b[0m \u001b[0mos\u001b[0m\u001b[1;33m.\u001b[0m\u001b[0mpath\u001b[0m\u001b[1;33m.\u001b[0m\u001b[0mexists\u001b[0m\u001b[1;33m(\u001b[0m\u001b[0mos\u001b[0m\u001b[1;33m.\u001b[0m\u001b[0mpath\u001b[0m\u001b[1;33m.\u001b[0m\u001b[0mjoin\u001b[0m\u001b[1;33m(\u001b[0m\u001b[0mROOT_PATH\u001b[0m\u001b[1;33m,\u001b[0m \u001b[1;34m'{}/cleaner_npy_{}'\u001b[0m\u001b[1;33m.\u001b[0m\u001b[0mformat\u001b[0m\u001b[1;33m(\u001b[0m\u001b[0mmidi_type\u001b[0m\u001b[1;33m,\u001b[0m \u001b[0mtrain_test\u001b[0m\u001b[1;33m)\u001b[0m\u001b[1;33m)\u001b[0m\u001b[1;33m)\u001b[0m\u001b[1;33m:\u001b[0m\u001b[1;33m\u001b[0m\u001b[1;33m\u001b[0m\u001b[0m\n\u001b[0m\u001b[0;32m      5\u001b[0m     \u001b[0mos\u001b[0m\u001b[1;33m.\u001b[0m\u001b[0mmakedirs\u001b[0m\u001b[1;33m(\u001b[0m\u001b[0mos\u001b[0m\u001b[1;33m.\u001b[0m\u001b[0mpath\u001b[0m\u001b[1;33m.\u001b[0m\u001b[0mjoin\u001b[0m\u001b[1;33m(\u001b[0m\u001b[0mROOT_PATH\u001b[0m\u001b[1;33m,\u001b[0m \u001b[1;34m'{}/cleaner_npy_{}'\u001b[0m\u001b[1;33m.\u001b[0m\u001b[0mformat\u001b[0m\u001b[1;33m(\u001b[0m\u001b[0mmidi_type\u001b[0m\u001b[1;33m,\u001b[0m \u001b[0mtrain_test\u001b[0m\u001b[1;33m)\u001b[0m\u001b[1;33m)\u001b[0m\u001b[1;33m)\u001b[0m\u001b[1;33m\u001b[0m\u001b[1;33m\u001b[0m\u001b[0m\n\u001b[0;32m      6\u001b[0m \u001b[1;33m\u001b[0m\u001b[0m\n",
      "\u001b[1;31mNameError\u001b[0m: name 'os' is not defined"
     ]
    }
   ],
   "source": [
    "\"\"\"4. merge and crop\"\"\"\n",
    "\"\"\"merge different tracks and crop the data to (#, 64, 84, 1)\"\"\"\n",
    "train_test = 'train'\n",
    "if not os.path.exists(os.path.join(ROOT_PATH, '{}/cleaner_npy_{}'.format(midi_type, train_test))):\n",
    "    os.makedirs(os.path.join(ROOT_PATH, '{}/cleaner_npy_{}'.format(midi_type, train_test)))\n",
    "    \n",
    "l = [f for f in os.listdir(os.path.join(ROOT_PATH, '{}/midi_{}'.format(midi_type, train_test)))]\n",
    "# print(l)\n",
    "count = 0\n",
    "for i in range(len(l)):\n",
    "    try:\n",
    "        multitrack = Multitrack(beat_resolution=4, name=os.path.splitext(l[i])[0])\n",
    "        x = pretty_midi.PrettyMIDI(os.path.join(ROOT_PATH, '{}/midi_{}'.format(midi_type, train_test), l[i]))\n",
    "        multitrack.parse_pretty_midi(x)\n",
    "\n",
    "        category_list = {'Piano': [], 'Drums': []}\n",
    "        program_dict = {'Piano': 0, 'Drums': 0}\n",
    "\n",
    "        for idx, track in enumerate(multitrack.tracks):\n",
    "            if track.is_drum:\n",
    "                category_list['Drums'].append(idx)\n",
    "            else:\n",
    "                category_list['Piano'].append(idx)\n",
    "        tracks = []\n",
    "        merged = multitrack[category_list['Piano']].get_merged_pianoroll()\n",
    "#         merged = multitrack[category_list['Piano']].get_merged_pianoroll(mode='max')\n",
    "        print(merged.shape)\n",
    "\n",
    "        pr = get_bar_piano_roll(merged)\n",
    "        print(pr.shape)\n",
    "        pr_clip = pr[:, :, 24:108]\n",
    "        print(pr_clip.shape)\n",
    "#         if int(pr_clip.shape[0] % 4) != 0:\n",
    "#             pr_clip = np.delete(pr_clip, np.s_[-int(pr_clip.shape[0] % 4):], axis=0)\n",
    "        pr_re = pr_clip.reshape(-1, 64, 84, 1)\n",
    "        pr_clip = np.delete(pr_clip, np.s_[-int(pr_clip.shape[0] % 4):], axis=0)\n",
    "        print(pr_re.shape)\n",
    "#         if pr_re.shape[0] == 0:\n",
    "#             continue\n",
    "#         save_midis(pr_re, os.path.join(ROOT_PATH, 'MIDI/pop/pop_test/cleaner_midi_gen', os.path.splitext(l[i])[0] +\n",
    "#                                        '.mid'))\n",
    "        np.save(os.path.join(ROOT_PATH, '{}/cleaner_npy_{}'.format(midi_type, train_test), os.path.splitext(l[i])[0] + '.npy'), pr_re>0)\n",
    "    except:\n",
    "        count += 1\n",
    "        print('Wrong', l[i])\n",
    "        continue\n",
    "print(count)"
   ]
  },
  {
   "cell_type": "code",
   "execution_count": 36,
   "metadata": {
    "scrolled": true
   },
   "outputs": [
    {
     "name": "stdout",
     "output_type": "stream",
     "text": [
      "(20, 64, 84, 1) (3998,)\n",
      "(20, 64, 84, 1)\n"
     ]
    }
   ],
   "source": [
    "\"\"\"5. concatenate into a big numpy array file\"\"\"\n",
    "train_test = 'train'\n",
    "l = [f for f in os.listdir(os.path.join(ROOT_PATH, '{}/cleaner_npy_{}'.format(midi_type, train_test)))]\n",
    "# print(l)\n",
    "train = np.load(os.path.join(ROOT_PATH, '{}/cleaner_npy_{}'.format(midi_type, train_test), l[0]))\n",
    "print(train.shape, train.nonzero()[0].shape)\n",
    "for i in range(1, len(l)):\n",
    "    print(i, l[i])\n",
    "    t = np.load(os.path.join(ROOT_PATH, '{}/cleaner_npy_{}'.format(midi_type, train_test), l[i]))\n",
    "    train = np.concatenate((train, t), axis=0)\n",
    "print(train.shape)\n",
    "np.save(os.path.join(ROOT_PATH, '{}/{}_{}_piano.npy'.format(midi_type, midi_type, train_test)), train)"
   ]
  },
  {
   "cell_type": "code",
   "execution_count": 37,
   "metadata": {
    "scrolled": true
   },
   "outputs": [
    {
     "name": "stdout",
     "output_type": "stream",
     "text": [
      "(20, 64, 84, 1)\n",
      "(64, 84, 1) 14 True\n",
      "(64, 84, 1)\n",
      "(64, 84, 1) 123 True\n",
      "(64, 84, 1)\n",
      "(64, 84, 1) 249 True\n",
      "(64, 84, 1)\n",
      "(64, 84, 1) 226 True\n",
      "(64, 84, 1)\n",
      "(64, 84, 1) 76 True\n",
      "(64, 84, 1)\n",
      "(64, 84, 1) 228 True\n",
      "(64, 84, 1)\n",
      "(64, 84, 1) 42 True\n",
      "(64, 84, 1)\n",
      "(64, 84, 1) 83 True\n",
      "(64, 84, 1)\n",
      "(64, 84, 1) 125 True\n",
      "(64, 84, 1)\n",
      "(64, 84, 1) 258 True\n",
      "(64, 84, 1)\n",
      "(64, 84, 1) 239 True\n",
      "(64, 84, 1)\n",
      "(64, 84, 1) 303 True\n",
      "(64, 84, 1)\n",
      "(64, 84, 1) 277 True\n",
      "(64, 84, 1)\n",
      "(64, 84, 1) 173 True\n",
      "(64, 84, 1)\n",
      "(64, 84, 1) 188 True\n",
      "(64, 84, 1)\n",
      "(64, 84, 1) 193 True\n",
      "(64, 84, 1)\n",
      "(64, 84, 1) 225 True\n",
      "(64, 84, 1)\n",
      "(64, 84, 1) 321 True\n",
      "(64, 84, 1)\n",
      "(64, 84, 1) 211 True\n",
      "(64, 84, 1)\n",
      "(64, 84, 1) 444 True\n",
      "(64, 84, 1)\n",
      "20\n"
     ]
    }
   ],
   "source": [
    "\"\"\"6. separate numpy array file into single phrases\"\"\"\n",
    "train_test = 'train'\n",
    "if not os.path.exists(os.path.join(ROOT_PATH, '{}/data_{}'.format(midi_type, train_test))):\n",
    "    os.makedirs(os.path.join(ROOT_PATH, '{}/data_{}'.format(midi_type, train_test)))\n",
    "x = np.load(os.path.join(ROOT_PATH, '{}/{}_{}_piano.npy'.format(midi_type, midi_type, train_test)))\n",
    "print(x.shape)\n",
    "count = 0\n",
    "for i in range(x.shape[0]):\n",
    "    # filter too sparse files\n",
    "    if x[i].nonzero()[0].shape[0] > 1:\n",
    "        print(x[i].shape, x[i].nonzero()[0].shape[0], np.max(x[i]))\n",
    "        count += 1\n",
    "        data = x[i].reshape(64, 84, 1)\n",
    "        print(data.shape)\n",
    "        np.save(os.path.join(ROOT_PATH, '{}/data_{}/{}_piano_{}_{}.npy'.format(midi_type, train_test, midi_type, train_test, count)), data)\n",
    "#         print(x[i].shape)\n",
    "   # if count == 11216:\n",
    "   #     break\n",
    "print(count)"
   ]
  },
  {
   "cell_type": "code",
   "execution_count": 140,
   "metadata": {
    "scrolled": true
   },
   "outputs": [
    {
     "name": "stdout",
     "output_type": "stream",
     "text": [
      "(1, 64, 84, 1) (14,)\n",
      "2 2_origin.npy\n",
      "3 3_origin.npy\n",
      "4 4_origin.npy\n",
      "5 5_origin.npy\n",
      "6 6_origin.npy\n",
      "7 7_origin.npy\n",
      "8 8_origin.npy\n",
      "9 9_origin.npy\n",
      "10 10_origin.npy\n",
      "11 11_origin.npy\n",
      "12 12_origin.npy\n",
      "13 13_origin.npy\n",
      "14 14_origin.npy\n",
      "15 15_origin.npy\n",
      "16 16_origin.npy\n",
      "17 17_origin.npy\n",
      "18 18_origin.npy\n",
      "19 19_origin.npy\n",
      "20 20_origin.npy\n",
      "(20, 64, 84, 1)\n"
     ]
    }
   ],
   "source": [
    "\"\"\"5. concatenate into a big numpy array file\"\"\"\n",
    "train_test = 'train'\n",
    "l = [f for f in os.listdir(os.path.join(ROOT_PATH, '{}/cleaner_npy_{}'.format(midi_type, train_test)))]\n",
    "# print(l)\n",
    "train = np.load(os.path.join(ROOT_PATH, '{}/cleaner_npy_{}'.format(midi_type, train_test), '1_origin.npy'))\n",
    "print(train.shape, train.nonzero()[0].shape)\n",
    "for i in range(2, len(l)+1):\n",
    "    song_name = str(i) + '_origin.npy'\n",
    "    print(i, song_name)\n",
    "    t = np.load(os.path.join(ROOT_PATH, '{}/cleaner_npy_{}'.format(midi_type, train_test), song_name))\n",
    "    train = np.concatenate((train, t), axis=0)\n",
    "print(train.shape)\n",
    "np.save(os.path.join(ROOT_PATH, '{}/{}_{}_piano.npy'.format(midi_type, midi_type, train_test)), train)"
   ]
  },
  {
   "cell_type": "code",
   "execution_count": 141,
   "metadata": {},
   "outputs": [],
   "source": [
    "\"\"\"test for writ midi files\"\"\"\n",
    "midi_type = 'jazz'\n",
    "train_test = 'train'\n",
    "name='topgrooves'\n",
    "# l = [f for f in os.listdir(os.path.join(ROOT_PATH, '{}/data_{}'.format(midi_type, train_test)))]\n",
    "\n",
    "# for i in range(len(l)):\n",
    "# #    print(l[i])\n",
    "t = np.load(os.path.join(ROOT_PATH, '{}/{}_{}_piano.npy'.format(midi_type, midi_type, train_test)))\n",
    "save_midis(t,os.path.join(ROOT_PATH, '{}/new_songs/{}.mid'.format(midi_type, name)))"
   ]
  },
  {
   "cell_type": "code",
   "execution_count": 24,
   "metadata": {},
   "outputs": [
    {
     "name": "stdout",
     "output_type": "stream",
     "text": [
      "[[1 2 3]\n",
      " [4 4 4]]\n"
     ]
    }
   ],
   "source": [
    "a=[np.array([1,2,3])]\n",
    "a.append(np.array([4,4,4]))\n",
    "b = np.squeeze(np.array(a))\n",
    "# print(np.nonzero(b)[0].shape[0])\n",
    "# print(np.where(b > 0)[0].shape[0])\n",
    "d = np.zeros((1,3))\n",
    "print(b)"
   ]
  }
 ],
 "metadata": {
  "kernelspec": {
   "display_name": "Python [conda env:cyclegan]",
   "language": "python",
   "name": "conda-env-cyclegan-py"
  },
  "language_info": {
   "codemirror_mode": {
    "name": "ipython",
    "version": 3
   },
   "file_extension": ".py",
   "mimetype": "text/x-python",
   "name": "python",
   "nbconvert_exporter": "python",
   "pygments_lexer": "ipython3",
   "version": "3.6.8"
  }
 },
 "nbformat": 4,
 "nbformat_minor": 2
}
